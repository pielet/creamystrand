{
 "cells": [
  {
   "cell_type": "code",
   "execution_count": 80,
   "metadata": {},
   "outputs": [],
   "source": [
    "import matplotlib.pyplot as plt\n",
    "import numpy as np\n",
    "from math import log\n",
    "import re\n",
    "\n",
    "with open(\"../../adonis_hairball.txt\", encoding='utf-16-le') as f:\n",
    "    adonis_lines = f.readlines()\n",
    "\n",
    "with open(\"../../ours_hairball.txt\", encoding='utf-16-le') as f:\n",
    "    ours_lines = f.readlines()\n",
    "    "
   ]
  },
  {
   "cell_type": "code",
   "execution_count": 92,
   "metadata": {},
   "outputs": [
    {
     "data": {
      "text/plain": [
       "Text(0.5, 0, 'iteration')"
      ]
     },
     "execution_count": 92,
     "metadata": {},
     "output_type": "execute_result"
    },
    {
     "data": {
      "image/png": "[encoded data removed]",
      "text/plain": [
       "<Figure size 432x288 with 3 Axes>"
      ]
     },
     "metadata": {
      "needs_background": "light"
     },
     "output_type": "display_data"
    }
   ],
   "source": [
    "t = 0.26\n",
    "\n",
    "for i, line in enumerate(adonis_lines):\n",
    "    if line.startswith('# Stepping') and str(t) in line.split():\n",
    "        start_idx = i\n",
    "    if line.startswith('# Stepping') and str(t + 0.001) in line.split():\n",
    "        end_idx = i\n",
    "\n",
    "iter_lines = filter(lambda x: x.startswith(\"\\tIter\"), adonis_lines[start_idx: end_idx])\n",
    "err = list(map(lambda x: float(x.split()[3]), iter_lines))\n",
    "\n",
    "for i, line in enumerate(ours_lines):\n",
    "    if line.startswith('# Stepping') and str(t) in line.split():\n",
    "        start_idx = i\n",
    "    if line.startswith('# Stepping') and str(t + 0.001) in line.split():\n",
    "        end_idx = i\n",
    "        \n",
    "dv_lines = filter(lambda x: \"dv\" in x.split(), ours_lines[start_idx: end_idx])\n",
    "dr_lines = filter(lambda x: \"dr\" in x.split(), ours_lines[start_idx: end_idx])\n",
    "dv = list(map(lambda x: float(x.split()[-1]), dv_lines))\n",
    "dr = list(map(lambda x: float(x.split()[-1]), dr_lines))\n",
    "\n",
    "plt.subplot(3, 1, 1)\n",
    "plt.plot([log(x) for x in err])\n",
    "plt.ylabel(\"GS error\")\n",
    "\n",
    "plt.subplot(3, 1, 2)\n",
    "plt.plot([log(x) for x in dv])\n",
    "plt.ylabel(\"||dv||\")\n",
    "\n",
    "plt.subplot(3, 1, 3)\n",
    "plt.plot([log(x) for x in dr])\n",
    "plt.ylabel(\"||dr|| / ||r||\")\n",
    "plt.xlabel(\"iteration\")"
   ]
  },
  {
   "cell_type": "code",
   "execution_count": null,
   "metadata": {},
   "outputs": [],
   "source": []
  }
 ],
 "metadata": {
  "kernelspec": {
   "display_name": "Python 3",
   "language": "python",
   "name": "python3"
  },
  "language_info": {
   "codemirror_mode": {
    "name": "ipython",
    "version": 3
   },
   "file_extension": ".py",
   "mimetype": "text/x-python",
   "name": "python",
   "nbconvert_exporter": "python",
   "pygments_lexer": "ipython3",
   "version": "3.8.0"
  }
 },
 "nbformat": 4,
 "nbformat_minor": 2
}

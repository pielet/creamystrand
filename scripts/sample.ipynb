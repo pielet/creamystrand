{
 "cells": [
  {
   "cell_type": "code",
   "execution_count": 45,
   "metadata": {},
   "outputs": [],
   "source": [
    "import matplotlib.pyplot as plt\n",
    "import numpy as np\n",
    "from math import log\n",
    "import re\n",
    "\n",
    "with open(\"./converge_info.txt\") as f:\n",
    "    lines = f.readlines()\n",
    "\n",
    "v1 = filter(lambda x: x.startswith(\"0\"), lines)\n",
    "v1 = list(map(lambda x: float(x.split()[1]), v1))\n",
    "\n",
    "v2 = filter(lambda x: x.startswith(\"1\"), lines)\n",
    "v2 = list(map(lambda x: float(x.split()[1]), v2))\n",
    "\n",
    "assert(len(v1) == len(v2))\n",
    "v = []\n",
    "for i in range(len(v1)):\n",
    "    v.append((v1[i] + v2[i]) / 2)\n",
    "\n",
    "r = filter(lambda x: \"delta\" in x.split(), lines)\n",
    "r = list(map(lambda x: float(x.split()[3]), r))\n",
    "\n",
    "fb = filter(lambda x: \"FB\" in x.split(), lines)\n",
    "fb = list(map(lambda x: float(x.split()[3]), fb))"
   ]
  },
  {
   "cell_type": "code",
   "execution_count": 46,
   "metadata": {
    "scrolled": true
   },
   "outputs": [
    {
     "data": {
      "image/png": "[encoded data removed]",
      "text/plain": [
       "<Figure size 360x216 with 1 Axes>"
      ]
     },
     "metadata": {
      "needs_background": "light"
     },
     "output_type": "display_data"
    }
   ],
   "source": [
    "plt.figure(figsize=(5, 3))\n",
    "plt.plot(v, label='$\\Vert\\Delta v\\Vert$')\n",
    "plt.plot(r, label=\"$\\Vert \\Delta r\\Vert$\")\n",
    "plt.plot(fb, label=\"${f}^{FB}_{SOC}$\")\n",
    "plt.yscale('log')\n",
    "plt.grid(True)\n",
    "plt.ylabel(\"\")\n",
    "plt.xlabel(\"iteration\")\n",
    "plt.legend()\n",
    "plt.savefig('convergence_2.png', format=\"png\", dpi=600)"
   ]
  },
  {
   "cell_type": "code",
   "execution_count": null,
   "metadata": {},
   "outputs": [],
   "source": []
  }
 ],
 "metadata": {
  "kernelspec": {
   "display_name": "Python 3",
   "language": "python",
   "name": "python3"
  },
  "language_info": {
   "codemirror_mode": {
    "name": "ipython",
    "version": 3
   },
   "file_extension": ".py",
   "mimetype": "text/x-python",
   "name": "python",
   "nbconvert_exporter": "python",
   "pygments_lexer": "ipython3",
   "version": "3.8.0"
  }
 },
 "nbformat": 4,
 "nbformat_minor": 2
}
